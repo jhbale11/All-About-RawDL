{
 "cells": [
  {
   "cell_type": "code",
   "execution_count": 1,
   "metadata": {},
   "outputs": [],
   "source": [
    "%run ../chap02/pulsar.ipynb"
   ]
  },
  {
   "cell_type": "code",
   "execution_count": 2,
   "metadata": {},
   "outputs": [
    {
     "name": "stdout",
     "output_type": "stream",
     "text": [
      "pulsar dataset shape :  (17898, 9)\n",
      "Epoch 1: loss=0.154, train_acc=0.959, test_acc=0.972\n",
      "Epoch 2: loss=0.131, train_acc=0.966, test_acc=0.972\n",
      "Epoch 3: loss=0.136, train_acc=0.967, test_acc=0.970\n",
      "Epoch 4: loss=0.133, train_acc=0.968, test_acc=0.970\n",
      "Epoch 5: loss=0.121, train_acc=0.968, test_acc=0.969\n",
      "Epoch 6: loss=0.145, train_acc=0.968, test_acc=0.974\n",
      "Epoch 7: loss=0.122, train_acc=0.970, test_acc=0.975\n",
      "Epoch 8: loss=0.127, train_acc=0.970, test_acc=0.976\n",
      "Epoch 9: loss=0.125, train_acc=0.970, test_acc=0.976\n",
      "Epoch 10: loss=0.134, train_acc=0.968, test_acc=0.976\n",
      "\n",
      "Final Test: final accuracy = 0.976\n"
     ]
    }
   ],
   "source": [
    "pulsar_exec()"
   ]
  },
  {
   "cell_type": "code",
   "execution_count": 3,
   "metadata": {},
   "outputs": [
    {
     "name": "stdout",
     "output_type": "stream",
     "text": [
      "abalone data shape :  (4177, 11)\n",
      "Epoch 1: loss=-40.173, train_acc=1.000, test_acc=1.000\n",
      "Epoch 2: loss=-119.967, train_acc=1.000, test_acc=1.000\n",
      "Epoch 3: loss=-199.559, train_acc=1.000, test_acc=1.000\n",
      "Epoch 4: loss=-279.150, train_acc=1.000, test_acc=1.000\n",
      "Epoch 5: loss=-358.740, train_acc=1.000, test_acc=1.000\n",
      "Epoch 6: loss=-438.331, train_acc=1.000, test_acc=1.000\n",
      "Epoch 7: loss=-517.923, train_acc=1.000, test_acc=1.000\n",
      "Epoch 8: loss=-597.514, train_acc=1.000, test_acc=1.000\n",
      "Epoch 9: loss=-677.104, train_acc=1.000, test_acc=1.000\n",
      "Epoch 10: loss=-756.694, train_acc=1.000, test_acc=1.000\n",
      "\n",
      "Final Test: final accuracy = 1.000\n"
     ]
    }
   ],
   "source": [
    "abalone_exec()"
   ]
  }
 ],
 "metadata": {
  "kernelspec": {
   "display_name": "Python 3.9.12 ('pytorch': conda)",
   "language": "python",
   "name": "python3"
  },
  "language_info": {
   "codemirror_mode": {
    "name": "ipython",
    "version": 3
   },
   "file_extension": ".py",
   "mimetype": "text/x-python",
   "name": "python",
   "nbconvert_exporter": "python",
   "pygments_lexer": "ipython3",
   "version": "3.9.12"
  },
  "vscode": {
   "interpreter": {
    "hash": "b2997bed8b8dc9e6c21460fa4ad9bada3279c9329f989c1464fa47985ad0f56a"
   }
  }
 },
 "nbformat": 4,
 "nbformat_minor": 2
}
