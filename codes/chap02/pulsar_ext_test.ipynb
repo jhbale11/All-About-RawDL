{
 "cells": [
  {
   "cell_type": "code",
   "execution_count": 10,
   "metadata": {},
   "outputs": [],
   "source": [
    "%run ../chap02/pulsar_ext.ipynb"
   ]
  },
  {
   "cell_type": "code",
   "execution_count": 11,
   "metadata": {},
   "outputs": [
    {
     "name": "stdout",
     "output_type": "stream",
     "text": [
      "Epoch 1: loss=0.139, accuracy=0.9651616499442587, precision=0.9754901960784313, recall=0.6238244514106583, f1=0.7609942638623327\n",
      "Epoch 2: loss=0.128, accuracy=0.9710144927536232, precision=0.9694323144104804, recall=0.6959247648902821, f1=0.8102189781021897\n",
      "Epoch 3: loss=0.130, accuracy=0.9729654403567447, precision=0.9512195121951219, recall=0.7335423197492164, f1=0.8283185840707965\n",
      "Epoch 4: loss=0.131, accuracy=0.9726867335562988, precision=0.9169811320754717, recall=0.7617554858934169, f1=0.8321917808219178\n",
      "Epoch 5: loss=0.130, accuracy=0.9749163879598662, precision=0.9525691699604744, recall=0.7554858934169278, f1=0.8426573426573425\n",
      "Epoch 6: loss=0.127, accuracy=0.9743589743589743, precision=0.8927335640138409, recall=0.8087774294670846, f1=0.8486842105263159\n",
      "Epoch 7: loss=0.130, accuracy=0.9715719063545151, precision=0.950207468879668, recall=0.7178683385579937, f1=0.8178571428571428\n",
      "Epoch 8: loss=0.119, accuracy=0.9743589743589743, precision=0.9595141700404858, recall=0.7429467084639498, f1=0.8374558303886924\n",
      "Epoch 9: loss=0.116, accuracy=0.9738015607580826, precision=0.9707112970711297, recall=0.7272727272727273, f1=0.8315412186379928\n",
      "Epoch 10: loss=0.120, accuracy=0.967391304347826, precision=0.9764150943396226, recall=0.6489028213166145, f1=0.7796610169491526\n",
      "\n",
      "Final Test: accuracy=0.967, precision=0.976, recall=0.649, f1=0.780\n"
     ]
    }
   ],
   "source": [
    "pulsar_exec()"
   ]
  },
  {
   "cell_type": "code",
   "execution_count": 12,
   "metadata": {},
   "outputs": [
    {
     "name": "stdout",
     "output_type": "stream",
     "text": [
      "Epoch 1: loss=0.405, accuracy=0.9228641671788568, precision=0.9388617886178862, recall=0.9019056544829741, f1=0.920012746972594\n",
      "Epoch 2: loss=0.376, accuracy=0.9179471419791027, precision=0.9829771821803694, recall=0.8478600437363324, f1=0.9104327406910433\n",
      "Epoch 3: loss=0.377, accuracy=0.9044253226797787, precision=0.8791531902381653, recall=0.9340830990315526, f1=0.9057861254165406\n",
      "Epoch 4: loss=0.364, accuracy=0.9153349723417332, precision=0.9871323529411765, recall=0.8388003748828491, f1=0.9069413950346226\n",
      "Epoch 5: loss=0.378, accuracy=0.9253226797787338, precision=0.9406037000973709, recall=0.9053420805998126, f1=0.9226361031518624\n",
      "Epoch 6: loss=0.367, accuracy=0.9227105101413645, precision=0.9817857142857143, recall=0.8587941268353639, f1=0.9161806365605734\n",
      "Epoch 7: loss=0.369, accuracy=0.9173325138291334, precision=0.986126323475721, recall=0.8437988128709778, f1=0.9094276094276094\n",
      "Epoch 8: loss=0.363, accuracy=0.927320221266134, precision=0.94, recall=0.9103405185879413, f1=0.9249325503888273\n",
      "Epoch 9: loss=0.349, accuracy=0.9259373079287031, precision=0.9805585012371862, recall=0.866604186191815, f1=0.9200663349917081\n",
      "Epoch 10: loss=0.378, accuracy=0.9150276582667486, precision=0.9088943792464484, recall=0.9194001874414246, f1=0.914117098928405\n",
      "\n",
      "Final Test: accuracy=0.915, precision=0.909, recall=0.919, f1=0.914\n"
     ]
    }
   ],
   "source": [
    "pulsar_exec(adjust_ratio=True)"
   ]
  }
 ],
 "metadata": {
  "kernelspec": {
   "display_name": "Python 3.9.12 ('pytorch': conda)",
   "language": "python",
   "name": "python3"
  },
  "language_info": {
   "codemirror_mode": {
    "name": "ipython",
    "version": 3
   },
   "file_extension": ".py",
   "mimetype": "text/x-python",
   "name": "python",
   "nbconvert_exporter": "python",
   "pygments_lexer": "ipython3",
   "version": "3.9.12"
  },
  "vscode": {
   "interpreter": {
    "hash": "b2997bed8b8dc9e6c21460fa4ad9bada3279c9329f989c1464fa47985ad0f56a"
   }
  }
 },
 "nbformat": 4,
 "nbformat_minor": 2
}
