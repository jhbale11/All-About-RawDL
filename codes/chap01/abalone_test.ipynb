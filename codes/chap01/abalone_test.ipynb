{
 "cells": [
  {
   "cell_type": "code",
   "execution_count": 7,
   "metadata": {},
   "outputs": [],
   "source": [
    "%run abalone.ipynb"
   ]
  },
  {
   "cell_type": "code",
   "execution_count": 8,
   "metadata": {},
   "outputs": [
    {
     "name": "stdout",
     "output_type": "stream",
     "text": [
      "abalone data shape :  (4177, 11)\n",
      "Epoch 1: loss=33.875, train_acc=0.557, test_acc=0.812\n",
      "Epoch 2: loss=8.226, train_acc=0.820, test_acc=0.814\n",
      "Epoch 3: loss=7.582, train_acc=0.812, test_acc=0.809\n",
      "Epoch 4: loss=7.475, train_acc=0.808, test_acc=0.811\n",
      "Epoch 5: loss=7.395, train_acc=0.810, test_acc=0.809\n",
      "Epoch 6: loss=7.328, train_acc=0.808, test_acc=0.810\n",
      "Epoch 7: loss=7.269, train_acc=0.808, test_acc=0.811\n",
      "Epoch 8: loss=7.217, train_acc=0.808, test_acc=0.812\n",
      "Epoch 9: loss=7.175, train_acc=0.810, test_acc=0.810\n",
      "Epoch 10: loss=7.135, train_acc=0.809, test_acc=0.810\n",
      "\n",
      "Final Test: final accuracy = 0.810\n"
     ]
    }
   ],
   "source": [
    "abalone_exec()"
   ]
  },
  {
   "cell_type": "code",
   "execution_count": 9,
   "metadata": {},
   "outputs": [
    {
     "name": "stdout",
     "output_type": "stream",
     "text": [
      "[[1.02697603]\n",
      " [1.47450981]\n",
      " [1.66960135]\n",
      " [2.04468668]\n",
      " [1.62513525]\n",
      " [0.60292627]\n",
      " [2.39993815]\n",
      " [0.54107313]\n",
      " [0.46878034]\n",
      " [1.01969382]]\n",
      "bias:  [4.16894769]\n"
     ]
    }
   ],
   "source": [
    "print(weight)\n",
    "print('bias: ', bias)"
   ]
  },
  {
   "cell_type": "code",
   "execution_count": 10,
   "metadata": {},
   "outputs": [
    {
     "name": "stdout",
     "output_type": "stream",
     "text": [
      "abalone data shape :  (4177, 11)\n",
      "Epoch 20: loss=6.967, train_acc=0.808, test_acc=0.811\n",
      "Epoch 40: loss=6.736, train_acc=0.811, test_acc=0.812\n",
      "Epoch 60: loss=6.565, train_acc=0.811, test_acc=0.815\n",
      "Epoch 80: loss=6.412, train_acc=0.815, test_acc=0.816\n",
      "Epoch 100: loss=6.271, train_acc=0.818, test_acc=0.818\n",
      "\n",
      "Final Test: final accuracy = 0.818\n"
     ]
    }
   ],
   "source": [
    "# 학습횟수와 미니배치의 크기, 보고주기를 바꾸어 실험해본 것\n",
    "LEARNING_RATE = 0.01\n",
    "abalone_exec(epoch_count=100, mb_size=100, report=20)"
   ]
  },
  {
   "cell_type": "code",
   "execution_count": 11,
   "metadata": {},
   "outputs": [
    {
     "name": "stdout",
     "output_type": "stream",
     "text": [
      "abalone data shape :  (4177, 11)\n",
      "Epoch 100: loss=5.082, train_acc=0.836, test_acc=0.849\n",
      "Epoch 200: loss=5.011, train_acc=0.837, test_acc=0.843\n",
      "Epoch 300: loss=4.995, train_acc=0.838, test_acc=0.844\n",
      "Epoch 400: loss=4.978, train_acc=0.838, test_acc=0.847\n",
      "Epoch 500: loss=4.973, train_acc=0.838, test_acc=0.847\n",
      "Epoch 600: loss=4.938, train_acc=0.838, test_acc=0.844\n",
      "Epoch 700: loss=4.938, train_acc=0.839, test_acc=0.833\n",
      "Epoch 800: loss=4.947, train_acc=0.838, test_acc=0.844\n",
      "Epoch 900: loss=4.952, train_acc=0.838, test_acc=0.852\n",
      "Epoch 1000: loss=4.937, train_acc=0.838, test_acc=0.847\n",
      "Epoch 1100: loss=4.932, train_acc=0.838, test_acc=0.848\n",
      "Epoch 1200: loss=4.939, train_acc=0.838, test_acc=0.844\n",
      "Epoch 1300: loss=4.935, train_acc=0.838, test_acc=0.848\n",
      "Epoch 1400: loss=4.944, train_acc=0.838, test_acc=0.849\n",
      "Epoch 1500: loss=4.939, train_acc=0.838, test_acc=0.846\n",
      "Epoch 1600: loss=4.944, train_acc=0.838, test_acc=0.851\n",
      "Epoch 1700: loss=4.936, train_acc=0.838, test_acc=0.851\n",
      "Epoch 1800: loss=4.936, train_acc=0.838, test_acc=0.845\n",
      "Epoch 1900: loss=4.951, train_acc=0.837, test_acc=0.850\n",
      "Epoch 2000: loss=4.946, train_acc=0.838, test_acc=0.847\n",
      "\n",
      "Final Test: final accuracy = 0.847\n"
     ]
    }
   ],
   "source": [
    "LEARNING_RATE = 0.1\n",
    "abalone_exec(epoch_count=2000, mb_size=100, report=100)"
   ]
  },
  {
   "cell_type": "code",
   "execution_count": null,
   "metadata": {},
   "outputs": [],
   "source": []
  }
 ],
 "metadata": {
  "kernelspec": {
   "display_name": "Python 3.6.9 64-bit",
   "language": "python",
   "name": "python3"
  },
  "language_info": {
   "codemirror_mode": {
    "name": "ipython",
    "version": 3
   },
   "file_extension": ".py",
   "mimetype": "text/x-python",
   "name": "python",
   "nbconvert_exporter": "python",
   "pygments_lexer": "ipython3",
   "version": "3.6.9"
  },
  "vscode": {
   "interpreter": {
    "hash": "31f2aee4e71d21fbe5cf8b01ff0e069b9275f58929596ceb00d14d90e3e16cd6"
   }
  }
 },
 "nbformat": 4,
 "nbformat_minor": 4
}
