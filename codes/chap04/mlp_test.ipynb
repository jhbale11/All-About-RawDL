{
 "cells": [
  {
   "cell_type": "code",
   "execution_count": 1,
   "metadata": {},
   "outputs": [
    {
     "name": "stdout",
     "output_type": "stream",
     "text": [
      "abalone data shape :  (4177, 11)\n",
      "은닉 계층 0개를 갖는 다층 퍼셉트론이 작동되었습니다.\n",
      "Epoch 1: loss=33.875, train_acc=0.557, test_acc=0.812\n",
      "Epoch 2: loss=8.226, train_acc=0.820, test_acc=0.814\n",
      "Epoch 3: loss=7.582, train_acc=0.812, test_acc=0.809\n",
      "Epoch 4: loss=7.475, train_acc=0.808, test_acc=0.811\n",
      "Epoch 5: loss=7.395, train_acc=0.810, test_acc=0.809\n",
      "Epoch 6: loss=7.328, train_acc=0.808, test_acc=0.810\n",
      "Epoch 7: loss=7.269, train_acc=0.808, test_acc=0.811\n",
      "Epoch 8: loss=7.217, train_acc=0.808, test_acc=0.812\n",
      "Epoch 9: loss=7.175, train_acc=0.810, test_acc=0.810\n",
      "Epoch 10: loss=7.135, train_acc=0.809, test_acc=0.810\n",
      "\n",
      "Final Test: final accuracy = 0.810\n"
     ]
    }
   ],
   "source": [
    "%run ../chap01/abalone.ipynb\n",
    "%run ../chap04/mlp.ipynb\n",
    "set_hidden([])\n",
    "abalone_exec()"
   ]
  },
  {
   "cell_type": "code",
   "execution_count": 2,
   "metadata": {},
   "outputs": [
    {
     "name": "stdout",
     "output_type": "stream",
     "text": [
      "abalone data shape :  (4177, 11)\n",
      "은닉 계층 하나를 갖는 다층 퍼셉트론이 작동되었습니다.\n",
      "Epoch 10: loss=6.849, train_acc=0.806, test_acc=0.803\n",
      "Epoch 20: loss=6.294, train_acc=0.815, test_acc=0.812\n",
      "Epoch 30: loss=5.572, train_acc=0.827, test_acc=0.840\n",
      "Epoch 40: loss=5.105, train_acc=0.835, test_acc=0.842\n",
      "Epoch 50: loss=4.955, train_acc=0.838, test_acc=0.837\n",
      "\n",
      "Final Test: final accuracy = 0.837\n"
     ]
    }
   ],
   "source": [
    "set_hidden(4)\n",
    "abalone_exec(epoch_count=50, report=10)"
   ]
  },
  {
   "cell_type": "code",
   "execution_count": 3,
   "metadata": {},
   "outputs": [
    {
     "name": "stdout",
     "output_type": "stream",
     "text": [
      "abalone data shape :  (4177, 11)\n",
      "은닉 계층 하나를 갖는 다층 퍼셉트론이 작동되었습니다.\n",
      "Epoch 10: loss=6.757, train_acc=0.808, test_acc=0.813\n",
      "Epoch 20: loss=6.255, train_acc=0.817, test_acc=0.817\n",
      "Epoch 30: loss=5.554, train_acc=0.829, test_acc=0.819\n",
      "Epoch 40: loss=5.093, train_acc=0.837, test_acc=0.845\n",
      "Epoch 50: loss=4.948, train_acc=0.840, test_acc=0.827\n",
      "\n",
      "Final Test: final accuracy = 0.827\n"
     ]
    }
   ],
   "source": [
    "abalone_exec(epoch_count=50, report=10)"
   ]
  },
  {
   "cell_type": "code",
   "execution_count": 4,
   "metadata": {},
   "outputs": [
    {
     "name": "stdout",
     "output_type": "stream",
     "text": [
      "pulsar dataset shape :  (17898, 9)\n",
      "은닉 계층 하나를 갖는 다층 퍼셉트론이 작동되었습니다.\n",
      "Epoch 10: loss=0.094, train_acc=0.972, test_acc=0.972\n",
      "Epoch 20: loss=0.091, train_acc=0.973, test_acc=0.974\n",
      "Epoch 30: loss=0.091, train_acc=0.973, test_acc=0.974\n",
      "Epoch 40: loss=0.089, train_acc=0.974, test_acc=0.974\n",
      "Epoch 50: loss=0.089, train_acc=0.974, test_acc=0.975\n",
      "\n",
      "Final Test: final accuracy = 0.975\n"
     ]
    }
   ],
   "source": [
    "%run ../chap02/pulsar.ipynb\n",
    "%run ../chap04/mlp.ipynb\n",
    "set_hidden(6)\n",
    "pulsar_exec(epoch_count=50, report=10)"
   ]
  },
  {
   "cell_type": "code",
   "execution_count": 5,
   "metadata": {},
   "outputs": [
    {
     "name": "stdout",
     "output_type": "stream",
     "text": [
      "pulsar dataset shape :  (17898, 9)\n",
      "은닉 계층 1개를 갖는 다층 퍼셉트론이 작동되었습니다.\n",
      "Epoch 10: loss=0.090, train_acc=0.973, test_acc=0.969\n",
      "Epoch 20: loss=0.087, train_acc=0.974, test_acc=0.969\n",
      "Epoch 30: loss=0.085, train_acc=0.975, test_acc=0.973\n",
      "Epoch 40: loss=0.083, train_acc=0.976, test_acc=0.972\n",
      "Epoch 50: loss=0.083, train_acc=0.976, test_acc=0.972\n",
      "\n",
      "Final Test: final accuracy = 0.972\n"
     ]
    }
   ],
   "source": [
    "set_hidden([6])\n",
    "pulsar_exec(epoch_count=50, report=10)"
   ]
  },
  {
   "cell_type": "code",
   "execution_count": 6,
   "metadata": {},
   "outputs": [
    {
     "name": "stdout",
     "output_type": "stream",
     "text": [
      "pulsar dataset shape :  (17898, 9)\n",
      "은닉 계층 2개를 갖는 다층 퍼셉트론이 작동되었습니다.\n",
      "Epoch 40: loss=0.090, train_acc=0.973, test_acc=0.972\n",
      "Epoch 80: loss=0.086, train_acc=0.975, test_acc=0.974\n",
      "Epoch 120: loss=0.084, train_acc=0.976, test_acc=0.971\n",
      "Epoch 160: loss=0.081, train_acc=0.976, test_acc=0.972\n",
      "Epoch 200: loss=0.081, train_acc=0.976, test_acc=0.973\n",
      "\n",
      "Final Test: final accuracy = 0.973\n"
     ]
    }
   ],
   "source": [
    "set_hidden([12,6])\n",
    "pulsar_exec(epoch_count=200, report=40)"
   ]
  },
  {
   "cell_type": "code",
   "execution_count": 7,
   "metadata": {},
   "outputs": [
    {
     "name": "stdout",
     "output_type": "stream",
     "text": [
      "은닉 계층 하나를 갖는 다층 퍼셉트론이 작동되었습니다.\n",
      "Epoch 10: loss=1.849, train_acc=0.352, test_acc=0.325\n",
      "Epoch 20: loss=1.786, train_acc=0.352, test_acc=0.325\n",
      "Epoch 30: loss=1.747, train_acc=0.352, test_acc=0.325\n",
      "Epoch 40: loss=1.723, train_acc=0.352, test_acc=0.325\n",
      "Epoch 50: loss=1.708, train_acc=0.352, test_acc=0.325\n",
      "\n",
      "Final Test: final accuracy = 0.325\n"
     ]
    }
   ],
   "source": [
    "%run ../chap03/steel.ipynb\n",
    "%run ../chap04/mlp.ipynb\n",
    "set_hidden(10)\n",
    "steel_exec(epoch_count=50, report=10)"
   ]
  },
  {
   "cell_type": "code",
   "execution_count": 8,
   "metadata": {},
   "outputs": [
    {
     "name": "stdout",
     "output_type": "stream",
     "text": [
      "은닉 계층 3개를 갖는 다층 퍼셉트론이 작동되었습니다.\n",
      "Epoch 10: loss=1.855, train_acc=0.346, test_acc=0.350\n",
      "Epoch 20: loss=1.795, train_acc=0.346, test_acc=0.350\n",
      "Epoch 30: loss=1.758, train_acc=0.346, test_acc=0.350\n",
      "Epoch 40: loss=1.735, train_acc=0.346, test_acc=0.350\n",
      "Epoch 50: loss=1.721, train_acc=0.346, test_acc=0.350\n",
      "\n",
      "Final Test: final accuracy = 0.350\n"
     ]
    }
   ],
   "source": [
    "set_hidden([12, 6, 4])\n",
    "steel_exec(epoch_count=50, report=10)"
   ]
  },
  {
   "cell_type": "code",
   "execution_count": 9,
   "metadata": {},
   "outputs": [
    {
     "name": "stdout",
     "output_type": "stream",
     "text": [
      "은닉 계층 3개를 갖는 다층 퍼셉트론이 작동되었습니다.\n",
      "Epoch 10: loss=1.738, train_acc=0.257, test_acc=0.182\n",
      "Epoch 20: loss=1.618, train_acc=0.315, test_acc=0.468\n",
      "Epoch 30: loss=1.604, train_acc=0.390, test_acc=0.389\n",
      "Epoch 40: loss=1.594, train_acc=0.422, test_acc=0.471\n",
      "Epoch 50: loss=1.584, train_acc=0.444, test_acc=0.471\n",
      "\n",
      "Final Test: final accuracy = 0.471\n"
     ]
    }
   ],
   "source": [
    "LEARNING_RATE=0.0001\n",
    "hidden_config = [12, 6, 4]\n",
    "steel_exec(epoch_count=50, report=10)"
   ]
  }
 ],
 "metadata": {
  "kernelspec": {
   "display_name": "Python 3.9.12 ('pytorch')",
   "language": "python",
   "name": "python3"
  },
  "language_info": {
   "codemirror_mode": {
    "name": "ipython",
    "version": 3
   },
   "file_extension": ".py",
   "mimetype": "text/x-python",
   "name": "python",
   "nbconvert_exporter": "python",
   "pygments_lexer": "ipython3",
   "version": "3.9.12"
  },
  "vscode": {
   "interpreter": {
    "hash": "b2997bed8b8dc9e6c21460fa4ad9bada3279c9329f989c1464fa47985ad0f56a"
   }
  }
 },
 "nbformat": 4,
 "nbformat_minor": 2
}
